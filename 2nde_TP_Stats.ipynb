{
 "cells": [
  {
   "cell_type": "markdown",
   "metadata": {},
   "source": [
    "# Algorithmique et Statistiques\n",
    "\n",
    "On a relevé les notes obtenues par Hugo au cours du 1er trimestre en mathématiques. Toutes les notes sont sur $20$.\n",
    "\n",
    "<img src=\"http://lycee.lagrave.free.fr/IMG/png/notes.png\" alt=\"notes\"/>\n",
    "\n",
    "## 1 ère PARTIE : la moyenne\n",
    "\n",
    "1. Calculer la moyenne obtenue par Hugo au 1er trimestre en considérant que chaque note possède le même coefficient."
   ]
  },
  {
   "cell_type": "code",
   "execution_count": null,
   "metadata": {},
   "outputs": [],
   "source": []
  },
  {
   "cell_type": "markdown",
   "metadata": {},
   "source": [
    "2. Un programme pour calculer la moyenne\n",
    "> a. Compléter l’algorithme écrit en langage naturel suivant :\n",
    "  <img src=\"http://lycee.lagrave.free.fr/IMG/png/moyenne.png\" alt=\"moyenne\"/>\n"
   ]
  },
  {
   "cell_type": "markdown",
   "metadata": {},
   "source": [
    "**Variables**  \n",
    "N,n,S,m : nombres\n",
    "\n",
    "Début  \n",
    "S = 0  \n",
    "Afficher(\"Donner le nombre de notes N\")  \n",
    "Saisir **...**  \n",
    "Pour i allant de 1 à **...**  \n",
    "> Afficher(\"Donner une note\")  \n",
    "> Saisir n  \n",
    "> S = S + **...**  \n",
    "\n",
    "m = **...**  \n",
    "Afficher(\"La moyenne est :\",m)\n"
   ]
  },
  {
   "cell_type": "markdown",
   "metadata": {},
   "source": [
    "> b. Programmer cet algorithme en langage Python.  \n",
    "On testera le programme en vérifiant que l'on trouve bien le même résultat que dans la question 1."
   ]
  },
  {
   "cell_type": "code",
   "execution_count": null,
   "metadata": {},
   "outputs": [],
   "source": []
  },
  {
   "cell_type": "markdown",
   "metadata": {},
   "source": [
    "## 2 ème PARTIE : la médiane  \n",
    "\n",
    "1. Calculer la note médiane obtenue par Hugo au cours du 1 er trimestre.  \n",
    "   Quel travail préliminaire doit-on faire pour calculer la médiane d'une série ?\n"
   ]
  },
  {
   "cell_type": "markdown",
   "metadata": {},
   "source": []
  },
  {
   "cell_type": "markdown",
   "metadata": {},
   "source": [
    "2. Python permet de manipuler facilement des listes.  \n",
    "   Voici un tableau décrivant quelques fonctions qui pourront vous être utiles :  \n",
    "     <img src=\"http://lycee.lagrave.free.fr/IMG/png/Liste.png\" alt=\"liste\"/>\n",
    "     \n",
    "     En utilisant ce tableau, imaginer un programme permettant de calculer la médiane obtenue par Hugo.  \n",
    "     On n'oubliera pas de le tester."
   ]
  },
  {
   "cell_type": "code",
   "execution_count": null,
   "metadata": {},
   "outputs": [],
   "source": []
  },
  {
   "cell_type": "markdown",
   "metadata": {},
   "source": [
    "## 3 ème PARTIE : Pour aller plus loin ...\n",
    "### 1er sujet  \n",
    "Comment modifier le programme sur la moyenne pour ne pas être obligé de compter le nombre de valeurs avant de\n",
    "les entrer ?\n"
   ]
  },
  {
   "cell_type": "code",
   "execution_count": null,
   "metadata": {},
   "outputs": [],
   "source": []
  },
  {
   "cell_type": "markdown",
   "metadata": {},
   "source": [
    "### 2ème sujet   \n",
    "Imaginer un programme permettant de calculer une moyenne pondérée.\n"
   ]
  },
  {
   "cell_type": "code",
   "execution_count": null,
   "metadata": {},
   "outputs": [],
   "source": []
  },
  {
   "cell_type": "markdown",
   "metadata": {},
   "source": [
    "### 3ème sujet  \n",
    "Imaginer un programme permettant de calculer le 1er et 3ème quartiles d'une série."
   ]
  },
  {
   "cell_type": "code",
   "execution_count": null,
   "metadata": {},
   "outputs": [],
   "source": []
  }
 ],
 "metadata": {
  "kernelspec": {
   "display_name": "Python 3",
   "language": "python",
   "name": "python3"
  },
  "language_info": {
   "codemirror_mode": {
    "name": "ipython",
    "version": 3
   },
   "file_extension": ".py",
   "mimetype": "text/x-python",
   "name": "python",
   "nbconvert_exporter": "python",
   "pygments_lexer": "ipython3",
   "version": "3.7.3"
  }
 },
 "nbformat": 4,
 "nbformat_minor": 2
}
